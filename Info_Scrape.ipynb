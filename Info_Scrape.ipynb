{
 "cells": [
  {
   "cell_type": "code",
   "execution_count": 1,
   "metadata": {},
   "outputs": [],
   "source": [
    "from selenium import webdriver\n",
    "from selenium.webdriver.support.ui import WebDriverWait\n",
    "from selenium.webdriver.support import expected_conditions as EC\n",
    "from selenium.webdriver.common.by import By\n",
    "from selenium.common.exceptions import TimeoutException\n",
    "from selenium.webdriver.common.keys import Keys\n",
    "import time\n",
    "import random\n",
    "\n",
    "from bs4 import BeautifulSoup\n",
    "import urllib.request\n",
    "import os"
   ]
  },
  {
   "cell_type": "markdown",
   "metadata": {},
   "source": [
    "#### Get all the links need to be scrape"
   ]
  },
  {
   "cell_type": "code",
   "execution_count": 2,
   "metadata": {},
   "outputs": [],
   "source": [
    "f = open(\"links.dat\",\"r\")\n",
    "lines = f.readlines()\n",
    "f.close()"
   ]
  },
  {
   "cell_type": "code",
   "execution_count": 3,
   "metadata": {},
   "outputs": [],
   "source": [
    "chromedriver = \"/Applications/chromedriver\"\n",
    "os.environ[\"webdriver.chrome.driver\"] = chromedriver\n",
    "driver = webdriver.Chrome(chromedriver)"
   ]
  },
  {
   "cell_type": "markdown",
   "metadata": {},
   "source": [
    "#### Class for rental info"
   ]
  },
  {
   "cell_type": "code",
   "execution_count": 4,
   "metadata": {},
   "outputs": [],
   "source": [
    "class rental_information(object):\n",
    "    \n",
    "    def __init__(self,driver,link):\n",
    "        self.driver = driver\n",
    "        self.link = link\n",
    "        self.driver.get(self.link)\n",
    "        \n",
    "        self.soup = BeautifulSoup(self.driver.page_source,\"lxml\")\n",
    "        self.rental_information()\n",
    "\n",
    "    def rental_information(self):\n",
    "        information = {}\n",
    "             \n",
    "        information[\"price\"] = self.price()\n",
    "        information[\"title\"] = self.title() \n",
    "        information[\"bed\"] = self.bed()\n",
    "        information[\"bath\"] = self.bath()\n",
    "        information[\"posttime\"] = self.posttime()\n",
    "        information[\"moveindate\"] = self.moveindate()\n",
    "        information[\"latitude\"] = self.latitude()\n",
    "        information[\"longitude\"] = self.longitude()\n",
    "        information[\"attrgroup1\"] = self.attrgroup1()\n",
    "        information[\"attrgroup2\"] = self.attrgroup2()\n",
    "        information[\"detail\"] = self.details() \n",
    "        \n",
    "        self.information = information\n",
    "\n",
    "    def title(self):\n",
    "        try:\n",
    "#             print(self.soup.find(\"span\", id=\"titletextonly\").text)\n",
    "            return self.soup.find(\"span\", id=\"titletextonly\").text\n",
    "        except:\n",
    "            return \"NA\"\n",
    "    \n",
    "    def price(self):\n",
    "        try:\n",
    "#             print(self.soup.find(\"span\",{\"class\": \"price\"}).text.strip('$'))\n",
    "            return self.soup.find(\"span\",{\"class\": \"price\"}).text.strip('$')\n",
    "        except:\n",
    "            return \"NA\"\n",
    "           \n",
    "    def bed(self):\n",
    "        try:\n",
    "#             print(self.soup.find(\"span\",{\"class\": \"shared-line-bubble\"}).text[0])\n",
    "            return self.soup.find(\"span\",{\"class\": \"shared-line-bubble\"}).text[0]\n",
    "        except:\n",
    "            return \"NA\"\n",
    "    \n",
    "    def bath(self):\n",
    "        try:\n",
    "#             print(self.soup.find(\"span\",{\"class\": \"shared-line-bubble\"}).text[6])\n",
    "            return self.soup.find(\"span\",{\"class\": \"shared-line-bubble\"}).text[6]\n",
    "        except:\n",
    "            return \"NA\"\n",
    "\n",
    "    def posttime(self):\n",
    "        try:\n",
    "#             print(driver.find_element_by_xpath('//time[@class=\"date timeago\"]').get_attribute(\"title\"))\n",
    "            return self.driver.find_element_by_xpath('//time[@class=\"date timeago\"]').get_attribute(\"title\")\n",
    "        except:\n",
    "            return \"NA\"\n",
    "\n",
    "    def moveindate(self):\n",
    "        try:\n",
    "#             print(driver.find_element_by_xpath('//span[@class=\"housing_movein_now property_date shared-line-bubble attr_is_today\"]').text)\n",
    "            return self.driver.find_element_by_xpath('//span[@class=\"housing_movein_now property_date shared-line-bubble attr_is_today\"]').text\n",
    "        except:\n",
    "            return \"NA\"\n",
    "        \n",
    "    def latitude(self):\n",
    "        try:\n",
    "#             print(driver.find_element_by_xpath('//div[@id=\"map\"]').get_attribute(\"data-latitude\"))\n",
    "            return self.driver.find_element_by_xpath('//div[@id=\"map\"]').get_attribute(\"data-latitude\")\n",
    "        except:\n",
    "            return \"NA\"\n",
    "        \n",
    "    def longitude(self):\n",
    "        try:\n",
    "#             print(driver.find_element_by_xpath('//div[@id=\"map\"]').get_attribute(\"data-longitude\"))\n",
    "            return self.driver.find_element_by_xpath('//div[@id=\"map\"]').get_attribute(\"data-longitude\")\n",
    "        except:\n",
    "            return \"NA\"\n",
    "\n",
    "    def attrgroup1(self):\n",
    "        try:\n",
    "#             print(driver.find_element_by_xpath(\"(//span[@class='shared-line-bubble'])[2]\").text)#.repalce('\\n', ' ')\n",
    "            return self.driver.find_element_by_xpath(\"(//span[@class='shared-line-bubble'])[2]\").text#.replace('\\n', ' ')\n",
    "        except:\n",
    "            return \"NA\"\n",
    "        \n",
    "    def attrgroup2(self):\n",
    "        try:\n",
    "#             print(driver.find_element_by_xpath(\"(//p[@class='attrgroup'])[2]\").text.replace('\\n', ' '))\n",
    "            return self.driver.find_element_by_xpath(\"(//p[@class='attrgroup'])[2]\").text.replace('\\n', ' ')\n",
    "        except:\n",
    "            return \"NA\"\n",
    "\n",
    "    def details(self):\n",
    "        try:\n",
    "#             print(self.soup.find(\"section\", id=\"postingbody\").text.replace('\\n', ' '))\n",
    "            return self.soup.find(\"section\", id=\"postingbody\").text.replace('\\n', ' ')\n",
    "        except:\n",
    "            return \"NA\""
   ]
  },
  {
   "cell_type": "code",
   "execution_count": null,
   "metadata": {},
   "outputs": [
    {
     "name": "stdout",
     "output_type": "stream",
     "text": [
      "L0L1L2L3L4L5L6L7L8L9L10L11L12L13L14L15L16L17L18L19L20L21L22L23L24L25L26L27L28L29L30L31L32L33L34L35L36L37L38L39L40L41L42L43L44L45L46L47L48L49L50L51L52L53L54L55L56L57L58L59L60L61L62L63L64L65L66L67L68L69L70L71L72L73L74L75L76L77L78L79L80L81L82L83L84L85L86L87L88L89L90L91L92L93L94L95L96L97L98L99L100L101L102L103L104L105L106L107L108L109L110L111L112L113L114L115L116L117L118L119L120L121L122L123L124L125L126L127L128L129L130L131L132L133L134L135L136L137L138L139L140L141L142L143L144L145L146L147L148L149L150L151L152L153L154L155L156L157L158L159L160L161L162L163L164L165L166L167L168L169L170L171L172L173L174L175L176L177L178L179L180L181L182L183L184L185L186L187L188L189L190L191L192L193L194L195L196L197L198L199L200L201L202L203L204L205L206L207L208L209L210L211L212L213L214L215L216L217L218L219L220L221L222L223L224L225L226L227L228L229L230L231L232"
     ]
    }
   ],
   "source": [
    "import sys\n",
    "import pandas as pd\n",
    "\n",
    "df = pd.DataFrame()\n",
    "L = len(lines)\n",
    "for i in range(0,3000):\n",
    "    link = lines[i]\n",
    "    time.sleep(3+random.uniform(0,3))\n",
    "    rent = rental_information(driver,link)\n",
    "    data = pd.DataFrame.from_dict(rent.information, orient='index').T\n",
    "    df = df.append(data)\n",
    "    sys.stdout.write(\"L\"+str(i))"
   ]
  },
  {
   "cell_type": "code",
   "execution_count": null,
   "metadata": {},
   "outputs": [],
   "source": [
    "df.to_csv(\"rent_info.csv\")"
   ]
  },
  {
   "cell_type": "code",
   "execution_count": null,
   "metadata": {},
   "outputs": [],
   "source": [
    "# df.head()"
   ]
  },
  {
   "cell_type": "code",
   "execution_count": null,
   "metadata": {},
   "outputs": [],
   "source": []
  }
 ],
 "metadata": {
  "kernelspec": {
   "display_name": "Python 3",
   "language": "python",
   "name": "python3"
  },
  "language_info": {
   "codemirror_mode": {
    "name": "ipython",
    "version": 3
   },
   "file_extension": ".py",
   "mimetype": "text/x-python",
   "name": "python",
   "nbconvert_exporter": "python",
   "pygments_lexer": "ipython3",
   "version": "3.7.4"
  },
  "toc": {
   "base_numbering": 1,
   "nav_menu": {},
   "number_sections": true,
   "sideBar": true,
   "skip_h1_title": false,
   "title_cell": "Table of Contents",
   "title_sidebar": "Contents",
   "toc_cell": false,
   "toc_position": {},
   "toc_section_display": true,
   "toc_window_display": false
  },
  "varInspector": {
   "cols": {
    "lenName": 16,
    "lenType": 16,
    "lenVar": 40
   },
   "kernels_config": {
    "python": {
     "delete_cmd_postfix": "",
     "delete_cmd_prefix": "del ",
     "library": "var_list.py",
     "varRefreshCmd": "print(var_dic_list())"
    },
    "r": {
     "delete_cmd_postfix": ") ",
     "delete_cmd_prefix": "rm(",
     "library": "var_list.r",
     "varRefreshCmd": "cat(var_dic_list()) "
    }
   },
   "types_to_exclude": [
    "module",
    "function",
    "builtin_function_or_method",
    "instance",
    "_Feature"
   ],
   "window_display": false
  }
 },
 "nbformat": 4,
 "nbformat_minor": 2
}
